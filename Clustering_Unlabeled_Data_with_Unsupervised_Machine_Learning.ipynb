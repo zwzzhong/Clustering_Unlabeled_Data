{
  "nbformat": 4,
  "nbformat_minor": 0,
  "metadata": {
    "colab": {
      "name": "Clustering_Unlabeled_Data_with_Unsupervised_Machine_Learning.ipynb",
      "version": "0.3.2",
      "provenance": [],
      "include_colab_link": true
    },
    "kernelspec": {
      "name": "python3",
      "display_name": "Python 3"
    },
    "accelerator": "GPU"
  },
  "cells": [
    {
      "cell_type": "markdown",
      "metadata": {
        "id": "view-in-github",
        "colab_type": "text"
      },
      "source": [
        "<a href=\"https://colab.research.google.com/github/zwzzhong/Clustering_Unlabeled_Data/blob/master/Clustering_Unlabeled_Data_with_Unsupervised_Machine_Learning.ipynb\" target=\"_parent\"><img src=\"https://colab.research.google.com/assets/colab-badge.svg\" alt=\"Open In Colab\"/></a>"
      ]
    },
    {
      "cell_type": "markdown",
      "metadata": {
        "id": "FXQm-nIxOqC2",
        "colab_type": "text"
      },
      "source": [
        "# Unlabeled Data and Unsupervised Machine Learning\n"
      ]
    },
    {
      "cell_type": "markdown",
      "metadata": {
        "id": "klXtnYwOPT09",
        "colab_type": "text"
      },
      "source": [
        "### Make blobs"
      ]
    },
    {
      "cell_type": "code",
      "metadata": {
        "id": "d2qB1ZfhOmte",
        "colab_type": "code",
        "colab": {}
      },
      "source": [
        "from sklearn.datasets import make_blobs\n",
        "X, y = make_blobs(n_samples=150,\n",
        "                   n_features=2,\n",
        "                   centers=3,\n",
        "                   cluster_std=0.5,\n",
        "                   shuffle=True,\n",
        "                   random_state=0)\n",
        "\n"
      ],
      "execution_count": 0,
      "outputs": []
    },
    {
      "cell_type": "markdown",
      "metadata": {
        "id": "mWy8tZpaPWck",
        "colab_type": "text"
      },
      "source": [
        "### Plot blobs"
      ]
    },
    {
      "cell_type": "code",
      "metadata": {
        "id": "zerVUlPjPAQX",
        "colab_type": "code",
        "outputId": "4c4dc53b-439d-4db7-e464-c6afe2e00c7e",
        "colab": {
          "base_uri": "https://localhost:8080/",
          "height": 347
        }
      },
      "source": [
        "import matplotlib.pyplot as plt\n",
        "plt.scatter(X[:,0],\n",
        "             X[:,1],\n",
        "             c='white',\n",
        "             marker='o',\n",
        "             edgecolor='black',\n",
        "             s=50)\n",
        "plt.grid()\n",
        "plt.show()"
      ],
      "execution_count": 0,
      "outputs": [
        {
          "output_type": "display_data",
          "data": {
            "image/png": "[encoded data removed]",
            "text/plain": [
              "<Figure size 576x396 with 1 Axes>"
            ]
          },
          "metadata": {
            "tags": []
          }
        }
      ]
    },
    {
      "cell_type": "markdown",
      "metadata": {
        "id": "5Srs2X0tPa1T",
        "colab_type": "text"
      },
      "source": [
        "### **SpectralClustering**"
      ]
    },
    {
      "cell_type": "code",
      "metadata": {
        "id": "VH-Klz_1PcuI",
        "colab_type": "code",
        "colab": {}
      },
      "source": [
        "from sklearn.cluster import SpectralClustering\n",
        "SC = SpectralClustering(affinity='rbf', assign_labels='discretize', coef0=1,\n",
        "          degree=3, eigen_solver=None, eigen_tol=0.0, gamma=1.0,\n",
        "          kernel_params=None, n_clusters=3, n_init=10, n_jobs=None,\n",
        "          n_neighbors=10, random_state=0)\n",
        "Y_SC = SC.fit_predict(X)"
      ],
      "execution_count": 0,
      "outputs": []
    },
    {
      "cell_type": "markdown",
      "metadata": {
        "id": "0SWLuMT0PuYm",
        "colab_type": "text"
      },
      "source": [
        "### Plot Clusters"
      ]
    },
    {
      "cell_type": "code",
      "metadata": {
        "id": "moFpJZ7vPvBs",
        "colab_type": "code",
        "outputId": "37a608b1-9034-4515-eac2-26d75760f057",
        "colab": {
          "base_uri": "https://localhost:8080/",
          "height": 347
        }
      },
      "source": [
        "plt.scatter(X[Y_SC == 0, 0],\n",
        "             X[Y_SC == 0, 1],\n",
        "             s=50, c='lightgreen',\n",
        "             marker='s', edgecolor='black',\n",
        "             label='cluster 1')\n",
        "plt.scatter(X[Y_SC == 1, 0],\n",
        "             X[Y_SC == 1, 1],\n",
        "             s=50, c='orange',\n",
        "             marker='o', edgecolor='black',\n",
        "             label='cluster 2')\n",
        "plt.scatter(X[Y_SC == 2, 0],\n",
        "             X[Y_SC == 2, 1],\n",
        "             s=50, c='lightblue',\n",
        "             marker='v', edgecolor='black',\n",
        "             label='cluster 3')\n",
        "plt.legend(scatterpoints=1)\n",
        "plt.grid()\n",
        "plt.show()"
      ],
      "execution_count": 0,
      "outputs": [
        {
          "output_type": "display_data",
          "data": {
            "image/png": "[encoded data removed]",
            "text/plain": [
              "<Figure size 576x396 with 1 Axes>"
            ]
          },
          "metadata": {
            "tags": []
          }
        }
      ]
    },
    {
      "cell_type": "markdown",
      "metadata": {
        "id": "2mEcI38mZbTM",
        "colab_type": "text"
      },
      "source": [
        "### **Evaluating clustering with Silhouette Coefficient**"
      ]
    },
    {
      "cell_type": "code",
      "metadata": {
        "id": "fDt7zXweWQPn",
        "colab_type": "code",
        "outputId": "7cd39d75-36ae-4181-d847-70159ee04011",
        "colab": {
          "base_uri": "https://localhost:8080/",
          "height": 34
        }
      },
      "source": [
        "from sklearn import metrics\n",
        "from sklearn.metrics import pairwise_distances\n",
        "import numpy as np\n",
        "\n",
        "SC_Model = SC.fit(X)\n",
        "labels = SC_Model.labels_\n",
        "metrics.silhouette_score(X, labels, metric='euclidean')"
      ],
      "execution_count": 0,
      "outputs": [
        {
          "output_type": "execute_result",
          "data": {
            "text/plain": [
              "0.7143417887288687"
            ]
          },
          "metadata": {
            "tags": []
          },
          "execution_count": 5
        }
      ]
    }
  ]
}